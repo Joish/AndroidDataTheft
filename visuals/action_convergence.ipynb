{
 "cells": [
  {
   "cell_type": "code",
   "execution_count": null,
   "metadata": {},
   "outputs": [],
   "source": [
    "import pandas as pd\n",
    "import numpy as np\n",
    "import pickle as pkl\n",
    "import seaborn as sns\n",
    "import matplotlib.pyplot as plt\n",
    "from sklearn.preprocessing import MinMaxScaler\n",
    "from sklearn.ensemble import ExtraTreesClassifier\n",
    "from sklearn.model_selection import train_test_split\n",
    "from sklearn.metrics import classification_report\n",
    "from sklearn.metrics import confusion_matrix\n"
   ]
  },
  {
   "cell_type": "markdown",
   "metadata": {},
   "source": [
    "### Load the dataset"
   ]
  },
  {
   "cell_type": "code",
   "execution_count": null,
   "metadata": {},
   "outputs": [],
   "source": [
    "data = pd.read_csv('../Master.csv', index_col = 0)\n",
    "feature_names = pkl.load(open(\"./action_features.pkl\", 'rb'))\n",
    "X = data[feature_names]\n",
    "y = data['actiontype']"
   ]
  },
  {
   "cell_type": "markdown",
   "metadata": {},
   "source": [
    "### Forward feature selections results"
   ]
  },
  {
   "cell_type": "code",
   "execution_count": null,
   "metadata": {},
   "outputs": [],
   "source": [
    "report_dict = {}\n",
    "for _ in range(1, len(feature_names)+1):    \n",
    "    print (_)\n",
    "    X_et = df[names[:_]]\n",
    "    X_norm_et = MinMaxScaler().fit_transform(X_et)\n",
    "    X_train, X_test, y_train, y_test = train_test_split(X_norm_et, y, test_size=0.30, random_state=42, stratify = y)\n",
    "    clf = ExtraTreesClassifier(random_state=0, n_jobs=-1)\n",
    "    clf.fit(X_train, y_train)\n",
    "    y_pred = clf.predict(X_test)\n",
    "    print(classification_report(y_test, y_pred))\n",
    "    report = classification_report(y_test, y_pred, output_dict=True)\n",
    "    \n",
    "    cm = confusion_matrix(y_test, y_pred)\n",
    "    tp = cm[0][0]\n",
    "    fp = cm[0][1]\n",
    "    fn = cm[1][0]\n",
    "    tn = cm[1][1]\n",
    "    \n",
    "    report_dict[_] = {\n",
    "        '0_precision': report['0']['precision'],\n",
    "        '0_recall': report['0']['recall'],\n",
    "        '0_f1-score': report['0']['f1-score'],\n",
    "        '1_precision': report['1']['precision'],\n",
    "        '1_recall': report['1']['recall'],\n",
    "        '1_f1-score': report['1']['f1-score'],\n",
    "        'accuracy': report['accuracy'],\n",
    "        'macro_avg_precision': report['macro avg']['precision'],\n",
    "        'macro_avg_recall': report['macro avg']['recall'],\n",
    "        'macro_avg_f1-score': report['macro avg']['f1-score'],\n",
    "        'weighted_avg_precision': report['weighted avg']['precision'],\n",
    "        'weighted_avg_recall': report['weighted avg']['recall'],\n",
    "        'weighted_avg_f1-score': report['weighted avg']['f1-score'],\n",
    "        'tp':tp,\n",
    "        'tn':tn,\n",
    "        'fp':fp,\n",
    "        'fn':fn,\n",
    "    }\n",
    "    pd.DataFrame(report_dict).transpose().to_csv(\"./action_convergence.csv\")        \n",
    "    print (\"#\"*100)"
   ]
  },
  {
   "cell_type": "markdown",
   "metadata": {},
   "source": [
    "### Plotting the forward convergence plot"
   ]
  },
  {
   "cell_type": "code",
   "execution_count": null,
   "metadata": {},
   "outputs": [],
   "source": [
    "convergence_df = pd.read_csv('./action_convergence.csv')\n",
    "ax = sns.lineplot(x = 'feature', y = '1_f1-score',data = convergence_df)\n",
    "ax.set_title('Forward Feature Selection')\n",
    "ax.set(xlabel='Number Of Features', ylabel='Malicious F1-score')\n",
    "plt.axvline(10)\n",
    "ax.figure.savefig(\"Forward_Feature_Selection.png\")"
   ]
  },
  {
   "cell_type": "markdown",
   "metadata": {},
   "source": [
    "### False Omission Rate and False Positive Rate with features in forward feature selection"
   ]
  },
  {
   "cell_type": "markdown",
   "metadata": {},
   "source": [
    "* False Positive Rate"
   ]
  },
  {
   "cell_type": "code",
   "execution_count": null,
   "metadata": {},
   "outputs": [],
   "source": [
    "convergence_df['fpr'] = convergence_df['fp']/(convergence_df['tn'] + convergence_df['fp'])\n",
    "\n",
    "ax = sns.lineplot(x='feature', y='fpr',data=convergence_df)\n",
    "ax.set_title('Malware Detector')\n",
    "ax.set(xlabel='Number Of Features', ylabel='False Positive Rate')\n",
    "plt.xlim(0,50)\n",
    "plt.grid()\n",
    "ax.figure.savefig('./FPR.png')"
   ]
  },
  {
   "cell_type": "markdown",
   "metadata": {},
   "source": [
    "* False Omission Rate"
   ]
  },
  {
   "cell_type": "code",
   "execution_count": null,
   "metadata": {},
   "outputs": [],
   "source": [
    "convergence_df['for'] = convergence_df['fn']/(convergence_df['tn'] + convergence_df['fn'])\n",
    "\n",
    "ax = sns.lineplot(x = 'feature', y = 'for', data = convergence_df)\n",
    "ax.set_title('Malware Detector')\n",
    "ax.set(xlabel='Number Of Features', ylabel = 'False Omission Rate')\n",
    "plt.xlim(0, 50)\n",
    "plt.ylim(0, 0.5)\n",
    "plt.grid()\n",
    "ax.figure.savefig('./FOR.png')"
   ]
  }
 ],
 "metadata": {
  "kernelspec": {
   "display_name": "Python 3",
   "language": "python",
   "name": "python3"
  },
  "language_info": {
   "codemirror_mode": {
    "name": "ipython",
    "version": 3
   },
   "file_extension": ".py",
   "mimetype": "text/x-python",
   "name": "python",
   "nbconvert_exporter": "python",
   "pygments_lexer": "ipython3",
   "version": "3.8.5"
  }
 },
 "nbformat": 4,
 "nbformat_minor": 4
}
