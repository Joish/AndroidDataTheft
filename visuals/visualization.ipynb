{
 "cells": [
  {
   "cell_type": "code",
   "execution_count": null,
   "metadata": {},
   "outputs": [],
   "source": [
    "import pandas as pd\n",
    "import numpy as np\n",
    "import pickle as pkl\n",
    "import seaborn as sns\n",
    "import matplotlib.pyplot as plt\n",
    "from sklearn.preprocessing import MinMaxScaler\n",
    "scaler = MinMaxScaler()"
   ]
  },
  {
   "cell_type": "code",
   "execution_count": null,
   "metadata": {},
   "outputs": [],
   "source": [
    "# Load the dataset and extract the subset with the important features\n",
    "important_features = pkl.load(open(\"selected_features.pkl\", 'rb'))\n",
    "data = pd.read_csv('./Master.csv', usecols = important_features)"
   ]
  },
  {
   "cell_type": "code",
   "execution_count": null,
   "metadata": {},
   "outputs": [],
   "source": [
    "# Extract the benign and malicious data and normalize \n",
    "benign_df = data.loc[data['actiontype'] == 0]\n",
    "malicious_df = data.loc[data['actiontype'] == 1]\n",
    "benign_df = pd.DataFrame(scaler.fit_transform(benign_df), columns = important_features)\n",
    "malicious_df = pd.DataFrame(scaler.fit_transform(malicious_df), columns = important_features)"
   ]
  },
  {
   "cell_type": "code",
   "execution_count": null,
   "metadata": {
    "jupyter": {
     "outputs_hidden": true
    }
   },
   "outputs": [],
   "source": [
    "# Plotting kde distribution plot for the feature with benign and malicious data\n",
    "for col in important_features[:-1]:\n",
    "    g = sns.kdeplot(benign_df[col], shade = True)\n",
    "    g = sns.kdeplot(malicious_df[col], shade = True)    \n",
    "    plt.legend(title = col, loc = 'upper right', labels = ['Benign', 'Malicious'])\n",
    "    plt.show(g)    \n",
    "    g.figure.savefig('./Visual_' + col + '.png')\n"
   ]
  },
  {
   "cell_type": "markdown",
   "metadata": {},
   "source": [
    "* Plotting the distribution plots for the most important features"
   ]
  },
  {
   "cell_type": "code",
   "execution_count": null,
   "metadata": {
    "jupyter": {
     "outputs_hidden": true
    }
   },
   "outputs": [],
   "source": [
    "sns.set(style=\"white\", palette=\"muted\", color_codes=True)\n",
    "rs = np.random.RandomState(10)\n",
    "\n",
    "# Set up the matplotlib figure\n",
    "f, axes = plt.subplots(2, 2, figsize=(10, 10), sharex=False)\n",
    "sns.despine(left=True)\n",
    "\n",
    "# Plot distribution plots for each of the important features considered\n",
    "sns.kdeplot(B_df['totalmemory_used_size'], shade=True,ax=axes[0, 0], legend=False)\n",
    "sns.kdeplot(M_df['totalmemory_used_size'], shade=True,ax=axes[0, 0], legend=False)\n",
    "\n",
    "sns.kdeplot(B_df['num_threads_SherLock'], shade=True,ax=axes[0, 1], legend=False)\n",
    "sns.kdeplot(M_df['num_threads_SherLock'], shade=True,ax=axes[0, 1], legend=False)\n",
    "\n",
    "sns.kdeplot(B_df['totalmemory_freesize'], shade=True,ax=axes[1, 0], legend=False)\n",
    "sns.kdeplot(M_df['totalmemory_freesize'], shade=True,ax=axes[1, 0], legend=False)\n",
    "\n",
    "sns.kdeplot(B_df['otherpss_SherLock'], shade=True,ax=axes[1, 1], legend=False)\n",
    "sns.kdeplot(M_df['otherpss_SherLock'], shade=True,ax=axes[1, 1], legend=False)\n",
    "\n",
    "f.legend([ax,ax],                              # The line objects\n",
    "         labels = ['Benign', 'Malicious'],     # The labels for each line\n",
    "         loc = \"upper left\",                   # Position of legend\n",
    "         title = \"Data distribution\"           # Title for the legend\n",
    "         )"
   ]
  },
  {
   "cell_type": "markdown",
   "metadata": {},
   "source": [
    "### Plotting the convergence plots for malicious detection and target classification"
   ]
  },
  {
   "cell_type": "code",
   "execution_count": null,
   "metadata": {},
   "outputs": [],
   "source": [
    "# For malicious detection features\n",
    "convergence_df = pd.read_csv('./action_convergence.csv')\n",
    "ax = sns.lineplot(x = 'feature', y = '1_f1-score', data = convergence_df)\n",
    "ax.set_title('Malicious Classification')\n",
    "ax.set(xlabel = 'Number Of Features', ylabel = 'Malicious F1-score')\n",
    "ax.figure.savefig('./malicious.png')"
   ]
  },
  {
   "cell_type": "code",
   "execution_count": null,
   "metadata": {},
   "outputs": [],
   "source": [
    "# For target classification features\n",
    "convergence_df = pd.read_csv('./service_convergence.csv')\n",
    "ax = sns.lineplot(x = 'feature', y = 'macro_avg_f1-score', data = convergence_df)\n",
    "ax.set_title('Target Classification')\n",
    "ax.set(xlabel='Number Of Features', ylabel = 'Macro average F1-score')\n",
    "plt.grid()\n",
    "ax.figure.savefig('./target_convergence.png', pad_inches = 100)"
   ]
  }
 ],
 "metadata": {
  "kernelspec": {
   "display_name": "Python 3",
   "language": "python",
   "name": "python3"
  },
  "language_info": {
   "codemirror_mode": {
    "name": "ipython",
    "version": 3
   },
   "file_extension": ".py",
   "mimetype": "text/x-python",
   "name": "python",
   "nbconvert_exporter": "python",
   "pygments_lexer": "ipython3",
   "version": "3.8.5"
  }
 },
 "nbformat": 4,
 "nbformat_minor": 4
}
