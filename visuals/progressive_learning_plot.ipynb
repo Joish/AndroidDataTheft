{
 "cells": [
  {
   "cell_type": "code",
   "execution_count": null,
   "metadata": {},
   "outputs": [],
   "source": [
    "import pandas as pd\n",
    "import matplotlib.pyplot as plt"
   ]
  },
  {
   "cell_type": "markdown",
   "metadata": {},
   "source": [
    "### Load the results with different test sizes"
   ]
  },
  {
   "cell_type": "code",
   "execution_count": null,
   "metadata": {},
   "outputs": [],
   "source": [
    "test_size_ar = pd.read_csv('../models/varying_test_size_results.csv')"
   ]
  },
  {
   "cell_type": "markdown",
   "metadata": {},
   "source": [
    "### Calculate the False Positive Rate (FPR) and False Omission Rate (FOR)"
   ]
  },
  {
   "cell_type": "code",
   "execution_count": null,
   "metadata": {},
   "outputs": [],
   "source": [
    "test_size_Var['FPR'] = test_size_Var['FalsePositive'] / ( test_size_Var['FalsePositive'] + test_size_Var['TrueNegative'])\n",
    "test_size_Var['FOR'] = test_size_Var['FalseNegative'] / (test_size_Var['FalseNegative'] + test_size_Var['TrueNegative'])\n",
    "test_size_Var['Train_size'] = 1 - test_size_Var['Test_size']\n"
   ]
  },
  {
   "cell_type": "markdown",
   "metadata": {},
   "source": [
    "### Extract the results with different combination of the number of users"
   ]
  },
  {
   "cell_type": "code",
   "execution_count": null,
   "metadata": {},
   "outputs": [],
   "source": [
    "one_user =  test_size_Var[test_size_Var['No of Users'] == 1]\n",
    "two_users = test_size_Var[test_size_Var['No of Users'] == 2]\n",
    "three_users = test_size_Var[test_size_Var['No of Users'] == 3]\n",
    "four_users = test_size_Var[test_size_Var['No of Users'] == 4]\n",
    "five_users = test_size_Var[test_size_Var['No of Users'] == 5]\n"
   ]
  },
  {
   "cell_type": "code",
   "execution_count": null,
   "metadata": {},
   "outputs": [],
   "source": [
    "one_user['Train_size_perc'] = one_users['Train_size'] * 100\n",
    "two_users['Train_size_perc'] = two_users['Train_size'] * 100\n",
    "three_users['Train_size_perc'] = three_users['Train_size'] * 100\n",
    "four_users['Train_size_perc'] = four_users['Train_size'] * 100\n",
    "five_users['Train_size_perc'] = five_users['Train_size'] * 100"
   ]
  },
  {
   "cell_type": "markdown",
   "metadata": {},
   "source": [
    "### Plotting FOR vs Train size data"
   ]
  },
  {
   "cell_type": "code",
   "execution_count": null,
   "metadata": {},
   "outputs": [],
   "source": [
    "plt.figure(figsize = (8, 5))\n",
    "plt.xticks(np.arange(0,100,5))\n",
    "plt.title(\"FOR variation for different Train_size\", fontsize = 15)\n",
    "plt.plot(one_user['Train_size_perc'], one_user['FOR'], label = 'One user')\n",
    "plt.plot(two_user['Train_size_perc'], two_user['FOR'], label = 'Two users')\n",
    "plt.plot(three_user['Train_size_perc'], three_user['FOR'], label = 'Three Users')\n",
    "plt.plot(four_user['Train_size_perc'], four_user['FOR'], label = 'Four users')\n",
    "plt.plot(five_user['Train_size_perc'], five_user['FOR'], label = 'Five Users')\n",
    "plt.axhline(0.075, ls = '--', linewidth = 1.2, c ='black')\n",
    "plt.xlabel(\"Train size in percentage\", fontsize = 13)\n",
    "plt.ylabel(\"False Omission Rate\", fontsize = 13)\n",
    "plt.legend()\n",
    "plt.savefig('./FOR_size_variation.png')"
   ]
  },
  {
   "cell_type": "markdown",
   "metadata": {},
   "source": [
    "### Plotting FPR vs Train size data"
   ]
  },
  {
   "cell_type": "code",
   "execution_count": null,
   "metadata": {},
   "outputs": [],
   "source": [
    "plt.figure(figsize = (8, 5))\n",
    "plt.xticks(np.arange(0,100,5))\n",
    "plt.title(\"FPR variation for different Train_size\", fontsize = 15)\n",
    "plt.plot(one_user['Train_size_perc'], one_user['FPR'], label = 'One user')\n",
    "plt.plot(two_user['Train_size_perc'], two_user['FPR'], label = 'Two users')\n",
    "plt.plot(three_user['Train_size_perc'], three_user['FPR'], label = 'Three Users')\n",
    "plt.plot(four_user['Train_size_perc'], four_user['FPR'], label = 'Four users')\n",
    "plt.plot(five_user['Train_size_perc'], five_user['FPR'], label = 'Five Users')\n",
    "plt.axhline(0.075, ls = '--', linewidth = 1.2, c ='black')\n",
    "plt.xlabel(\"Train size in percentage\", fontsize = 13)\n",
    "plt.ylabel(\"False Positive Rate\", fontsize = 13)\n",
    "plt.legend()\n",
    "plt.savefig('./FPR_size_variation.png')"
   ]
  }
 ],
 "metadata": {
  "kernelspec": {
   "display_name": "Python 3",
   "language": "python",
   "name": "python3"
  },
  "language_info": {
   "codemirror_mode": {
    "name": "ipython",
    "version": 3
   },
   "file_extension": ".py",
   "mimetype": "text/x-python",
   "name": "python",
   "nbconvert_exporter": "python",
   "pygments_lexer": "ipython3",
   "version": "3.8.5"
  }
 },
 "nbformat": 4,
 "nbformat_minor": 2
}