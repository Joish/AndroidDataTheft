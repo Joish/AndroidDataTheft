{
 "cells": [
  {
   "cell_type": "code",
   "execution_count": null,
   "metadata": {},
   "outputs": [],
   "source": [
    "import pandas as pd\n",
    "import pickle as pkl\n",
    "from sklearn.preprocessing import MinMaxScaler\n",
    "from sklearn.ensemble import ExtraTreesClassifier\n",
    "from sklearn.model_selection import train_test_split\n",
    "from sklearn.metrics import classification_report"
   ]
  },
  {
   "cell_type": "markdown",
   "metadata": {},
   "source": [
    "### Load the dataset"
   ]
  },
  {
   "cell_type": "code",
   "execution_count": null,
   "metadata": {},
   "outputs": [],
   "source": [
    "data = pd.read_csv('../Master.csv')\n",
    "data = data[data['actiontype'] == 1]"
   ]
  },
  {
   "cell_type": "code",
   "execution_count": null,
   "metadata": {},
   "outputs": [],
   "source": [
    "feature_set = pkl.load(open('./final_feats_targets.pkl','rb'))\n",
    "imp_feature_names = [k for k, v in feature_set.items() if v == 3]\n",
    "X = df[imp_feature_names]\n",
    "y = df['service_type']\n",
    "X_norm = MinMaxScaler().fit_transform(X)\n",
    "X_train, X_test, y_train, y_test = train_test_split(X_norm, y, test_size = 0.30, random_state = 42, stratify = y)"
   ]
  },
  {
   "cell_type": "code",
   "execution_count": null,
   "metadata": {},
   "outputs": [],
   "source": [
    "# Training an Extra tree Classifier and obtaining important features\n",
    "clf = ExtraTreesClassifier(random_state=0, n_jobs=-1)\n",
    "clf.fit(X_train, y_train)\n",
    "y_pred = clf.predict(X_test)\n",
    "\n",
    "report = classification_report(y_test, y_pred, output_dict=True)\n",
    "importances = clf.feature_importances_\n",
    "indices = np.argsort(importances)[::-1]\n",
    "names = [feature_names[i] for i in indices]"
   ]
  },
  {
   "cell_type": "markdown",
   "metadata": {},
   "source": [
    "### Forward feature selection for malicious targets"
   ]
  },
  {
   "cell_type": "code",
   "execution_count": null,
   "metadata": {},
   "outputs": [],
   "source": [
    "ranked_features = names[:50]\n",
    "y_et = df['service_type']\n",
    "selected_features = []\n",
    "score_hist = []\n",
    "last_score = 0\n",
    "master_dict = {}\n",
    "checker = 0\n",
    "\n",
    "while ranked_features:\n",
    "    print (len(ranked_features))\n",
    "    print (selected_features)\n",
    "    temp = ranked_features\n",
    "    score_dict = {}\n",
    "    for _ in range (len (temp)):\n",
    "        et = ExtraTreesClassifier(n_estimators=100)      \n",
    "        feat = selected_features + [temp[_]]\n",
    "        X_et = df[feat]\n",
    "        X_norm_et = MinMaxScaler().fit_transform(X_et)\n",
    "        X_train, X_test, y_train, y_test = train_test_split(X_norm_et, y_et, test_size=0.30, random_state=42, stratify=y_et)\n",
    "        et.fit(X_train, y_train)\n",
    "        y_pred = et.predict(X_test)\n",
    "        rpt = classification_report(y_test, y_pred,output_dict=True)\n",
    "        score_dict[temp[_]] = rpt['macro avg']['f1-score']        \n",
    "        print (\"@\"*50)    \n",
    "        \n",
    "    Keymax = max(score_dict, key=score_dict.get)\n",
    "    feat = selected_features + [Keymax]\n",
    "    X_cross = df[feat]\n",
    "    X_norm_cross = MinMaxScaler().fit_transform(X_cross)\n",
    "    X_train, X_test, y_train, y_test = train_test_split(X_norm_cross, y_et, test_size=0.30, random_state=42, stratify=y_et)\n",
    "    clf = ExtraTreesClassifier(random_state=0, n_jobs=-1)\n",
    "    clf.fit(X_train, y_train)\n",
    "    y_pred = clf.predict(X_test)\n",
    "    report = classification_report(y_test, y_pred, output_dict=True)\n",
    "    max_value = report['macro avg']['f1-score']\n",
    "    \n",
    "    print (feat)\n",
    "    print (classification_report(y_test, y_pred))\n",
    "    if max_value >= last_score:\n",
    "        selected_features.append(Keymax)\n",
    "        last_score = max_value\n",
    "        master_dict[str(feat)] = {\n",
    "        'accuracy': report['accuracy'],\n",
    "        'macro_avg_precision': report['macro avg']['precision'],\n",
    "        'macro_avg_recall': report['macro avg']['recall'],\n",
    "        'macro_avg_f1-score': report['macro avg']['f1-score'],\n",
    "        'weighted_avg_precision': report['weighted avg']['precision'],\n",
    "        'weighted_avg_recall': report['weighted avg']['recall'],\n",
    "        'weighted_avg_f1-score': report['weighted avg']['f1-score']\n",
    "    }\n",
    "        pd.DataFrame(master_dict).transpose().to_csv('./forward_feature_selection_targets_results.csv')\n",
    "    ranked_features.remove(Keymax)"
   ]
  }
 ],
 "metadata": {
  "kernelspec": {
   "display_name": "Python 3",
   "language": "python",
   "name": "python3"
  },
  "language_info": {
   "codemirror_mode": {
    "name": "ipython",
    "version": 3
   },
   "file_extension": ".py",
   "mimetype": "text/x-python",
   "name": "python",
   "nbconvert_exporter": "python",
   "pygments_lexer": "ipython3",
   "version": "3.8.5"
  }
 },
 "nbformat": 4,
 "nbformat_minor": 4
}
