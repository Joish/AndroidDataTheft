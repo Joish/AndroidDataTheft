{
 "cells": [
  {
   "cell_type": "code",
   "execution_count": null,
   "metadata": {},
   "outputs": [],
   "source": [
    "import pandas as pd\n",
    "import pickle as pkl\n",
    "from sklearn.feature_selection import SelectKBest\n",
    "from sklearn.feature_selection import chi2\n",
    "from sklearn.preprocessing import MinMaxScaler\n",
    "from sklearn.feature_selection import SelectFromModel\n",
    "from sklearn.linear_model import LogisticRegression\n",
    "from sklearn.feature_selection import RFE\n",
    "from sklearn.linear_model import LogisticRegression\n",
    "from lightgbm import LGBMClassifier\n",
    "from sklearn.ensemble import ExtraTreesClassifier\n"
   ]
  },
  {
   "cell_type": "markdown",
   "metadata": {},
   "source": [
    "### Load the dataset and features to be removed"
   ]
  },
  {
   "cell_type": "code",
   "execution_count": null,
   "metadata": {},
   "outputs": [],
   "source": [
    "data = pd.read_csv('../Master.csv')\n",
    "data = data[data['actiontype'] == 1]\n",
    "data['service_type'].fillna('Contacts', inplace = True)\n",
    "\n",
    "ground_truth = pkl.load(open(\"./ground_truth.pkl\", 'rb'))\n",
    "cate = pkl.load(open(\"./cate.pkl\", 'rb'))\n",
    "others = pkl.load(open(\"./others.pkl\", 'rb'))\n",
    "columns_with_nan = [ _ for _ in data.columns if data[_].isna().any()]"
   ]
  },
  {
   "cell_type": "markdown",
   "metadata": {},
   "source": [
    "### Remove ground truth and irrelevant features"
   ]
  },
  {
   "cell_type": "code",
   "execution_count": null,
   "metadata": {},
   "outputs": [],
   "source": [
    "def remove_columns(dataframe, columns_to_remove = []):\n",
    "    columns = dataframe.columns\n",
    "    columns_to_remove = set(columns).intersection(set(columns_to_remove))    \n",
    "    print (\"REMOVED : {}\".format(columns_to_remove))\n",
    "    if list(columns_to_remove):\n",
    "        dataframe = dataframe.drop(list(columns_to_remove), axis = 1) \n",
    "    return dataframe\n",
    "rem_feature = ground_truth + cate + columns_with_nan + others\n",
    "data = remove_columns(data, rem_feature)\n"
   ]
  },
  {
   "cell_type": "code",
   "execution_count": null,
   "metadata": {},
   "outputs": [],
   "source": [
    "# getting all categorical feature\n",
    "group = df.columns.to_series().groupby(df.dtypes).groups\n",
    "group"
   ]
  },
  {
   "cell_type": "code",
   "execution_count": null,
   "metadata": {},
   "outputs": [],
   "source": [
    "# drop actiontype (ground truth)\n",
    "data.drop('actiontype', axis = 1, inplace = True)\n",
    "\n",
    "# Initialize X, y and normalize X\n",
    "X = remove_columns(data,['service_type'])\n",
    "y = df['service_type']\n",
    "X_norm = MinMaxScaler().fit_transform(X)\n",
    "\n",
    "num_feats = 400"
   ]
  },
  {
   "cell_type": "markdown",
   "metadata": {},
   "source": [
    "### Chi-Squared feature selection"
   ]
  },
  {
   "cell_type": "code",
   "execution_count": null,
   "metadata": {},
   "outputs": [],
   "source": [
    "chi_selector = SelectKBest(chi2, k=num_feats)\n",
    "chi_selector.fit(X_norm, y)\n",
    "chi_support = chi_selector.get_support()\n",
    "chi_feature = df.drop('service_type',axis = 1).loc[:,chi_support].columns.tolist()\n",
    "print(str(len(chi_feature)), 'selected features')\n",
    "\n",
    "# save the selected features from chi-squared feature selection technique\n",
    "chi2 = pd.DataFrame( data = {'Feature':chi_feature})\n",
    "chi2.to_csv(\"./Chi2_service_features.csv\")"
   ]
  },
  {
   "cell_type": "markdown",
   "metadata": {},
   "source": [
    "### RFE feature selection"
   ]
  },
  {
   "cell_type": "code",
   "execution_count": null,
   "metadata": {
    "jupyter": {
     "outputs_hidden": true
    }
   },
   "outputs": [],
   "source": [
    "rfe_selector = RFE(estimator=LogisticRegression(),\n",
    "                   n_features_to_select = num_feats,\n",
    "                   step = 40,\n",
    "                   verbose = 5)\n",
    "rfe_selector.fit(X_norm, y)\n",
    "rfe_support = rfe_selector.get_support()\n",
    "rfe_feature = df.drop('service_type', axis = 1).loc[:, rfe_support].columns.tolist()\n",
    "\n",
    "# save the selected features from RFE feature selection technique\n",
    "rfe = pd.DataFrame( data ={'Feature':rfe_feature})\n",
    "rfe.to_csv(\"./RFE_action_features.csv\")"
   ]
  },
  {
   "cell_type": "markdown",
   "metadata": {},
   "source": [
    "### LightGBM feature selection"
   ]
  },
  {
   "cell_type": "code",
   "execution_count": null,
   "metadata": {},
   "outputs": [],
   "source": [
    "lgbc=LGBMClassifier(n_estimators = 500,\n",
    "                    learning_rate = 0.05,\n",
    "                    num_leaves = 32,\n",
    "                    colsample_bytree = 0.2,\n",
    "                    reg_alpha = 3,\n",
    "                    reg_lambda = 1,\n",
    "                    min_split_gain = 0.01,\n",
    "                    min_child_weight = 40)\n",
    "\n",
    "embeded_lgb_selector = SelectFromModel(lgbc,\n",
    "                                       max_features = num_feats)\n",
    "embeded_lgb_selector.fit(X_norm, y)\n",
    "embeded_lgb_support = embeded_lgb_selector.get_support()\n",
    "embeded_lgb_feature = df.drop('service_type', axis = 1).loc[:,embeded_lgb_support].columns.tolist()\n",
    "print(str(len(embeded_lgb_feature)), 'selected features')\n",
    "\n",
    "# save the selected features from LightGBM feature selection technique\n",
    "lgb = pd.DataFrame( data ={'Feature':embeded_lgb_feature})\n",
    "lgb.to_csv(\"./LightGBM_action_features.csv\")"
   ]
  },
  {
   "cell_type": "markdown",
   "metadata": {},
   "source": [
    "### Load the feature set obtained from the individual feature selection techniques"
   ]
  },
  {
   "cell_type": "code",
   "execution_count": null,
   "metadata": {},
   "outputs": [],
   "source": [
    "chi2 = pd.read_csv(\"./Chi2_action_features.csv\")\n",
    "rfe = pd.read_csv(\"./RFE_action_features.csv\")\n",
    "lgb = pd.read_csv(\"./LightGBM_action_features.csv\")\n",
    "\n",
    "chi_feature = chi2['Feature'].to_list()\n",
    "rfe_feature = rfe['Feature'].to_list()\n",
    "embeded_lgb_feature = lgb['Feature'].to_list()\n",
    "combined_features =  chi_feature  + embeded_lgb_feature +  rfe_feature"
   ]
  },
  {
   "cell_type": "markdown",
   "metadata": {},
   "source": [
    "### Calculating the feature count (Voting) "
   ]
  },
  {
   "cell_type": "code",
   "execution_count": null,
   "metadata": {},
   "outputs": [],
   "source": [
    "features_found_count = {}\n",
    "for features in set(combined_features):\n",
    "    features_found_count[features] = total_features.count(features)\n",
    "target_features = {k: v for k, v in sorted(features_found_count.items(), key=lambda item: item[1], reverse=True)}\n"
   ]
  },
  {
   "cell_type": "code",
   "execution_count": null,
   "metadata": {},
   "outputs": [],
   "source": [
    "# save the final feature set\n",
    "f = open('./final_feats_targets.pkl','wb')\n",
    "pkl.dump(target_features,f)"
   ]
  }
 ],
 "metadata": {
  "kernelspec": {
   "display_name": "Python 3",
   "language": "python",
   "name": "python3"
  },
  "language_info": {
   "codemirror_mode": {
    "name": "ipython",
    "version": 3
   },
   "file_extension": ".py",
   "mimetype": "text/x-python",
   "name": "python",
   "nbconvert_exporter": "python",
   "pygments_lexer": "ipython3",
   "version": "3.8.5"
  }
 },
 "nbformat": 4,
 "nbformat_minor": 4
}
